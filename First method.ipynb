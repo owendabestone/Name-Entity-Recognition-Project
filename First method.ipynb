{
 "cells": [
  {
   "cell_type": "code",
   "execution_count": 1,
   "metadata": {},
   "outputs": [
    {
     "name": "stderr",
     "output_type": "stream",
     "text": [
      "C:\\Users\\chang\\.conda\\envs\\ebay\\lib\\site-packages\\tqdm\\auto.py:22: TqdmWarning: IProgress not found. Please update jupyter and ipywidgets. See https://ipywidgets.readthedocs.io/en/stable/user_install.html\n",
      "  from .autonotebook import tqdm as notebook_tqdm\n"
     ]
    },
    {
     "name": "stdout",
     "output_type": "stream",
     "text": [
      "True\n"
     ]
    }
   ],
   "source": [
    "\n",
    "import pandas as pd\n",
    "import csv\n",
    "import torch\n",
    "from torch import nn\n",
    "import numpy as np\n",
    "import re\n",
    "# import spacy\n",
    "import torch.nn.functional as F\n",
    "import torch.optim as optim\n",
    "from torchvision import datasets, transforms\n",
    "import torchvision.transforms as T\n",
    "from torch.optim.lr_scheduler import StepLR\n",
    "from sklearn.model_selection import train_test_split\n",
    "import spacy\n",
    "from spacy.lang.en import English\n",
    "from emoji import UNICODE_EMOJI\n",
    "from util import *\n",
    "nlp = spacy.load(\"en_core_web_sm\")\n",
    "\n",
    "print(torch.cuda.is_available())\n",
    "file_path = ''\n",
    "df = pd.read_csv(file_path, sep=\"\\t\", dtype=str, keep_default_na=False, na_values=[\"\"], quoting=csv.QUOTE_NONE)\n",
    "\n",
    "from dateutil.parser import parse\n",
    "\n",
    "\n",
    "wv_from_bin = load_embedding_model()\n"
   ]
  },
  {
   "cell_type": "markdown",
   "metadata": {},
   "source": [
    "### This is what the dataset for testing looks like:"
   ]
  },
  {
   "cell_type": "code",
   "execution_count": 2,
   "metadata": {},
   "outputs": [
    {
     "data": {
      "text/html": [
       "<div>\n",
       "<style scoped>\n",
       "    .dataframe tbody tr th:only-of-type {\n",
       "        vertical-align: middle;\n",
       "    }\n",
       "\n",
       "    .dataframe tbody tr th {\n",
       "        vertical-align: top;\n",
       "    }\n",
       "\n",
       "    .dataframe thead th {\n",
       "        text-align: right;\n",
       "    }\n",
       "</style>\n",
       "<table border=\"1\" class=\"dataframe\">\n",
       "  <thead>\n",
       "    <tr style=\"text-align: right;\">\n",
       "      <th></th>\n",
       "      <th>Record Number</th>\n",
       "      <th>Title</th>\n",
       "    </tr>\n",
       "  </thead>\n",
       "  <tbody>\n",
       "    <tr>\n",
       "      <th>0</th>\n",
       "      <td>1</td>\n",
       "      <td>LOUIS VUITTON M40096 Handbag Priscilla Multi-c...</td>\n",
       "    </tr>\n",
       "    <tr>\n",
       "      <th>1</th>\n",
       "      <td>2</td>\n",
       "      <td>LOUIS VUITTON Petit Noe Drawstring Shoulder Ba...</td>\n",
       "    </tr>\n",
       "    <tr>\n",
       "      <th>2</th>\n",
       "      <td>3</td>\n",
       "      <td>LOUIS VUITTON Damier Azur Pochette Bosphore Sh...</td>\n",
       "    </tr>\n",
       "    <tr>\n",
       "      <th>3</th>\n",
       "      <td>4</td>\n",
       "      <td>GUCCI Bamboo 2Way Shoulder Bag Leather Brown A...</td>\n",
       "    </tr>\n",
       "    <tr>\n",
       "      <th>4</th>\n",
       "      <td>5</td>\n",
       "      <td>Rank AB Vintage Gucci Sherry line PVC Leather ...</td>\n",
       "    </tr>\n",
       "  </tbody>\n",
       "</table>\n",
       "</div>"
      ],
      "text/plain": [
       "  Record Number                                              Title\n",
       "0             1  LOUIS VUITTON M40096 Handbag Priscilla Multi-c...\n",
       "1             2  LOUIS VUITTON Petit Noe Drawstring Shoulder Ba...\n",
       "2             3  LOUIS VUITTON Damier Azur Pochette Bosphore Sh...\n",
       "3             4  GUCCI Bamboo 2Way Shoulder Bag Leather Brown A...\n",
       "4             5  Rank AB Vintage Gucci Sherry line PVC Leather ..."
      ]
     },
     "execution_count": 2,
     "metadata": {},
     "output_type": "execute_result"
    }
   ],
   "source": [
    "title_path = 'Listing_Titles.tsv'\n",
    "df_title = pd.read_csv(title_path, sep=\"\\t\", dtype=str, keep_default_na=False, na_values=[\"\"], quoting=csv.QUOTE_NONE)\n",
    "df_title.head()"
   ]
  },
  {
   "cell_type": "code",
   "execution_count": 3,
   "metadata": {},
   "outputs": [
    {
     "name": "stdout",
     "output_type": "stream",
     "text": [
      "30000\r"
     ]
    }
   ],
   "source": [
    "#Extrat info \n",
    "titles_x = []\n",
    "vocab = set()\n",
    "MAX_LEN = 0 \n",
    "for index, row in df_title.iterrows():\n",
    "    print(index,end='\\r')\n",
    "    sent_list = row['Title'].split(' ')\n",
    "    MAX_LEN = max(MAX_LEN, len(sent_list))\n",
    "    vocab.update(sent_list)\n",
    "    if index== 30000:\n",
    "        break\n"
   ]
  },
  {
   "cell_type": "code",
   "execution_count": 4,
   "metadata": {},
   "outputs": [
    {
     "name": "stdout",
     "output_type": "stream",
     "text": [
      "55121\n"
     ]
    }
   ],
   "source": [
    "df = df.fillna('NAN')\n",
    "print(len(df))"
   ]
  },
  {
   "cell_type": "code",
   "execution_count": 5,
   "metadata": {},
   "outputs": [],
   "source": [
    "### Extract training info\n",
    "x = []\n",
    "y = []\n",
    "for i in range(1,5001):\n",
    "    temp_df = df[df['Record Number']==str(i)]\n",
    "    tokens = []\n",
    "    tages = []\n",
    "    \n",
    "    for index, row in temp_df.iterrows():\n",
    "        if row['Tag'] == 'NAN':\n",
    "            tokens.append(row['Token'])\n",
    "            tages.append(temp)\n",
    "        else:\n",
    "            temp =  row['Tag']\n",
    "            tokens.append(row['Token'])\n",
    "            tages.append(row['Tag'])\n",
    "\n",
    "    vocab.update(tokens)\n",
    "    \n",
    "    # doc = nlp(sentence)\n",
    "    # sentence = doc._.outcome_spellCheck\n",
    "    # tokens = sentence.split(' ')\n",
    "    x.append(tokens)\n",
    "    y.append(tages)\n",
    "    \n"
   ]
  },
  {
   "cell_type": "code",
   "execution_count": 6,
   "metadata": {},
   "outputs": [
    {
     "name": "stdout",
     "output_type": "stream",
     "text": [
      "5000\n"
     ]
    }
   ],
   "source": [
    "# LENGTH OF THE TRAINING SET \n",
    "print(len(x))"
   ]
  },
  {
   "cell_type": "code",
   "execution_count": 7,
   "metadata": {},
   "outputs": [
    {
     "name": "stdout",
     "output_type": "stream",
     "text": [
      "42\n"
     ]
    }
   ],
   "source": [
    "# MAXIMUM LENGTH OF A SENTENCE\n",
    "MAX_LEN = 0 \n",
    "for i in x:\n",
    "    MAX_LEN = max(len(i), MAX_LEN)\n",
    "MAX_LEN +=20\n",
    "\n",
    "print(MAX_LEN)"
   ]
  },
  {
   "cell_type": "code",
   "execution_count": 8,
   "metadata": {},
   "outputs": [
    {
     "name": "stdout",
     "output_type": "stream",
     "text": [
      "32.0\n",
      "33.0\n"
     ]
    }
   ],
   "source": [
    "# NUMBER OF TAGS  IS 32. \n",
    "\n",
    "#Digitize the tags\n",
    "target = set()\n",
    "for i in y:\n",
    "    target.update(i)\n",
    "    \n",
    "target_name_to_index = {}\n",
    "num = 1\n",
    "for i in target:\n",
    "    target_name_to_index[i]= num\n",
    "    target_name_to_index[num]= i\n",
    "    num+=1\n",
    "print(len(target_name_to_index)/2)\n",
    "target_name_to_index[0] = '[PAD]'\n",
    "target_name_to_index['[PAD]'] = 0\n",
    "print(len(target_name_to_index)/2)\n",
    "CAT_NUM = int(len(target_name_to_index)/2)"
   ]
  },
  {
   "cell_type": "markdown",
   "metadata": {},
   "source": [
    "### Reducing the dimensions of the vocabulary dimensions. \n",
    "\n",
    "#### Turns out, the higher the dimension the better. No need to reduce dimension. "
   ]
  },
  {
   "cell_type": "code",
   "execution_count": 9,
   "metadata": {},
   "outputs": [
    {
     "name": "stdout",
     "output_type": "stream",
     "text": [
      "[2.25904993 0.81696325 0.57668452 0.25574459 0.21345183 0.15410183\n",
      " 0.1426699  0.11696192 0.09043778 0.08492469 0.08379914 0.0748369\n",
      " 0.06838907 0.06524872 0.05731288 0.05542911 0.05328101 0.05245867\n",
      " 0.04880456 0.04848949 0.04721909 0.04436738 0.04341708 0.04113247\n",
      " 0.04021009 0.03872008 0.03814719 0.03545287 0.03519026 0.03386438\n",
      " 0.03261184 0.03243122 0.03158918 0.03116499 0.03074222 0.03045423\n",
      " 0.02936531 0.02870041 0.02803693 0.02784922 0.02665729 0.02640964\n",
      " 0.0257897  0.0250006  0.02485081 0.02470358 0.02410539 0.02393676\n",
      " 0.02357152 0.02328479 0.0229408  0.02257665 0.02227422 0.02200488\n",
      " 0.02187531 0.02128517 0.02122395 0.02084136 0.0205761  0.02056401\n",
      " 0.02025064 0.02019144 0.01972388 0.01969708 0.0193217  0.01915814\n",
      " 0.01890876 0.01879868 0.01857613 0.01840255 0.01827743 0.01823555\n",
      " 0.01784731 0.01768508 0.01743104 0.017356   0.01720512 0.0171467\n",
      " 0.01702054 0.01690613 0.01664256 0.01652421 0.01640125 0.01634522\n",
      " 0.016236   0.01620508 0.01602268 0.01593267 0.01585618 0.01577801\n",
      " 0.01564377 0.01559884 0.01545926 0.01533872 0.01517285 0.01511561\n",
      " 0.0150486  0.01491588 0.01485466 0.01477393 0.01468682 0.01462957\n",
      " 0.01439917 0.01433528 0.0141991  0.0141014  0.0139706  0.01389797\n",
      " 0.01379155 0.01371785 0.01365737 0.01363094 0.01358201 0.01352039\n",
      " 0.01346889 0.01341915 0.01326504 0.01320702 0.01314494 0.01301252\n",
      " 0.01294542 0.01292449 0.0128517  0.01280038 0.01272055 0.01270277\n",
      " 0.01260535 0.01252837 0.01242529 0.01235719 0.01233205 0.01228134\n",
      " 0.01222562 0.01220521 0.01209061 0.01202345 0.01196659 0.01187764\n",
      " 0.0118222  0.01178862 0.01174785 0.01169718 0.01165154 0.01161851\n",
      " 0.01157442 0.01154295 0.01144398 0.01139714 0.01137766 0.0113266\n",
      " 0.01126456 0.01121658 0.01113627 0.01108388 0.01106981 0.01093837\n",
      " 0.01092589 0.01085006 0.01079038 0.01077354 0.01071874 0.0106782\n",
      " 0.01065144 0.01059935 0.01058447 0.0105214  0.01044558 0.01041477\n",
      " 0.01039683 0.01038102 0.01032426 0.01028567 0.01022411 0.01014116\n",
      " 0.01010282 0.01006593 0.01002478 0.01000154 0.00996446 0.00993476\n",
      " 0.00990512 0.00982494 0.00978724 0.00975869 0.0096932  0.00967645\n",
      " 0.00963584 0.0095749  0.00956892 0.00950985 0.00949468 0.00942817\n",
      " 0.00940941 0.00936661 0.00934191 0.00930745 0.00928646 0.00925245\n",
      " 0.00920254 0.00917456 0.00913772 0.00912562 0.00906745 0.00904006\n",
      " 0.00899388 0.00895599 0.00891931 0.00887448 0.00886679 0.00880143\n",
      " 0.00879038 0.00876535 0.00871007 0.00868936 0.00865541 0.00864605\n",
      " 0.00858069 0.00856849 0.00850857 0.00849471 0.00844331 0.00842846\n",
      " 0.00839908 0.00833786 0.00829148 0.00828018 0.00825626 0.00821621\n",
      " 0.00820164 0.00815788 0.00812044 0.00810994 0.00807566 0.00807019\n",
      " 0.00800271 0.00798978 0.00796262 0.00791545 0.00787169 0.00786071\n",
      " 0.00780401 0.00778068 0.00775679 0.00774439 0.00771555 0.00767362\n",
      " 0.00763126 0.00760058 0.00756935 0.00756382 0.00749547 0.00746603\n",
      " 0.00746109 0.0074176  0.0073765  0.00734069 0.00731542 0.00730472\n",
      " 0.00728368 0.00723041 0.00717539 0.00713308 0.00711815 0.00707253\n",
      " 0.00705599 0.00701219 0.0070026  0.00697832 0.00690017 0.0068574\n",
      " 0.00683636 0.00681598 0.00679664 0.00676127 0.00672741 0.00671542\n",
      " 0.00664824 0.00658269 0.00657092 0.00655534 0.00654875 0.0065214\n",
      " 0.00643767 0.00638773 0.0063304  0.0062766  0.00621241 0.00617061\n",
      " 0.00615018 0.00606172 0.00603001 0.00597336 0.00590202 0.00589013\n",
      " 0.00583321 0.00577905 0.0056895  0.00560917 0.0055018  0.00446371]\n"
     ]
    }
   ],
   "source": [
    "vector_space = []\n",
    "NUM_COMPONENTS= 300 #you can select any number of components.\n",
    "\n",
    "\n",
    "### Vocabulary cleaning\n",
    "for i in vocab:\n",
    "    w = vocab_clean(i)\n",
    "    vector_space.append(wv_from_bin[w])\n",
    "\n",
    "\n",
    "        \n",
    "vector_space = np.array(vector_space)\n",
    "covariance_matrix = np.cov(vector_space.T)\n",
    "values, vectors = np.linalg.eig(covariance_matrix)\n",
    "sorted_index = np.argsort(values)[::-1]\n",
    "sorted_eigenvalue = values[sorted_index]\n",
    "sorted_eigenvectors = vectors[:,sorted_index]\n",
    "eigenvector_subset = sorted_eigenvectors[:,0:NUM_COMPONENTS]\n",
    "print(sorted_eigenvalue)\n"
   ]
  },
  {
   "cell_type": "markdown",
   "metadata": {},
   "source": [
    "### Training - Validation split. "
   ]
  },
  {
   "cell_type": "code",
   "execution_count": 10,
   "metadata": {},
   "outputs": [],
   "source": [
    "X_train, X_test, y_train, y_test = train_test_split(x, y, test_size=0.05, random_state=46)"
   ]
  },
  {
   "cell_type": "markdown",
   "metadata": {},
   "source": [
    "### Data Augmentation \n",
    "#### Turns out now as good of a method to use here. "
   ]
  },
  {
   "cell_type": "code",
   "execution_count": 75,
   "metadata": {},
   "outputs": [],
   "source": [
    "NUM_OF_AUG = 1000\n",
    "\n",
    "import random\n",
    "X_train_ = X_train*1\n",
    "y_train_ = y_train*1\n",
    "for _ in range(NUM_OF_AUG):\n",
    "    index1 = random.randint(0, len(X_train)-1)\n",
    "    index2 = random.randint(0, len(X_train)-1)\n",
    "    index3 = random.randint(0,len(X_train[index1])-1)\n",
    "    index4 = random.randint(0,len(X_train[index1])-1)\n",
    "    index5 = random.randint(0,len(X_train[index2])-1)\n",
    "    index6 = random.randint(0,len(X_train[index2])-1)\n",
    "    \n",
    "    splice1 = X_train[index1][min(index3,index4): max(index3,index4)]\n",
    "    splice2  = X_train[index2][min(index5,index6): max(index5,index6)]\n",
    "    X_train_.append(splice1+ splice2)\n",
    "    splice1 = y_train[index1][min(index3,index4):max(index3,index4)]\n",
    "    splice2  = y_train[index2][min(index5,index6): max(index5,index6)]\n",
    "    y_train_.append(splice1+ splice2) \n",
    "\n",
    "X_train = X_train_\n",
    "y_train = y_train_                           \n"
   ]
  },
  {
   "cell_type": "code",
   "execution_count": 11,
   "metadata": {},
   "outputs": [
    {
     "name": "stdout",
     "output_type": "stream",
     "text": [
      "(4750, 42, 300)\n",
      "(250, 42, 300)\n"
     ]
    }
   ],
   "source": [
    "## Vectorizing the data. \n",
    "\n",
    "x_train_vectorized = np.zeros((len(X_train),MAX_LEN,NUM_COMPONENTS))\n",
    "x_original_length_train = []\n",
    "for sentence_ind in range(len(X_train)):\n",
    "    x_original_length_train.append(len(X_train[sentence_ind]))\n",
    "    for word_ind in range(len(X_train[sentence_ind])):\n",
    "        i = X_train[sentence_ind][word_ind]\n",
    "        vector = wv_from_bin[vocab_clean(i)]\n",
    "        # vector = vector @ eigenvector_subset\n",
    "        \n",
    "        x_train_vectorized[sentence_ind, word_ind] = vector\n",
    "\n",
    "x_test_vectorized = np.zeros((len(X_test),MAX_LEN,NUM_COMPONENTS))\n",
    "x_original_length_test = []\n",
    "for sentence_ind in range(len(X_test)):\n",
    "    x_original_length_test.append(len(X_test[sentence_ind]))\n",
    "    for word_ind in range(len(X_test[sentence_ind])):\n",
    "        i = X_test[sentence_ind][word_ind]\n",
    "        vector = wv_from_bin[vocab_clean(i)]\n",
    "        # vector = vector \n",
    "        \n",
    "        x_test_vectorized[sentence_ind, word_ind] = vector\n",
    "x_original_length_train = np.array(x_original_length_train)\n",
    "x_original_length_test = np.array(x_original_length_test)\n",
    "print(x_train_vectorized.shape)\n",
    "print(x_test_vectorized.shape)"
   ]
  },
  {
   "cell_type": "code",
   "execution_count": 12,
   "metadata": {},
   "outputs": [
    {
     "name": "stdout",
     "output_type": "stream",
     "text": [
      "33.0\n",
      "(4750, 42)\n",
      "(250, 42)\n"
     ]
    }
   ],
   "source": [
    "\n",
    "y_digit_train  = np.zeros((len(X_train),MAX_LEN))\n",
    "for sentence_ind in range(len(y_train)):\n",
    "    for tag_ind in range(len(y_train[sentence_ind])):\n",
    "        y_digit_train[sentence_ind,tag_ind] = target_name_to_index[y_train[sentence_ind][tag_ind]]\n",
    "print(len(target_name_to_index)/2)\n",
    "print(y_digit_train.shape)\n",
    "\n",
    "y_digit_test  = np.zeros((len(X_test),MAX_LEN))\n",
    "for sentence_ind in range(len(y_test)):\n",
    "    for tag_ind in range(len(y_test[sentence_ind])):\n",
    "        y_digit_test[sentence_ind,tag_ind] = target_name_to_index[y_test[sentence_ind][tag_ind]]\n",
    "print(y_digit_test.shape) \n",
    "\n"
   ]
  },
  {
   "cell_type": "code",
   "execution_count": 13,
   "metadata": {},
   "outputs": [],
   "source": [
    "train_dataset = []\n",
    "for i in range(len(x_train_vectorized)):\n",
    "    train_dataset.append((x_train_vectorized[i],\n",
    "                          y_digit_train[i],\n",
    "                          x_original_length_train[i]))\n",
    "    \n",
    "test_dataset = []\n",
    "for i in range(len(x_test_vectorized)):\n",
    "    test_dataset.append((x_test_vectorized[i],\n",
    "                          y_digit_test[i],\n",
    "                          x_original_length_test[i]))"
   ]
  },
  {
   "cell_type": "code",
   "execution_count": 14,
   "metadata": {},
   "outputs": [],
   "source": [
    "\n",
    "class LSTMTagger(nn.Module):\n",
    "\n",
    "\n",
    "    def __init__(self, embedding_dim, hidden_dim, output_size, batch_size=64):\n",
    "        '''\n",
    "        hidden_dim: can be anything, usually 32 or 64.\n",
    "        vocab_size: vocabulary size includes an index for padding.\n",
    "        output_size: We need to exclude the index for padding here.\n",
    "        '''\n",
    "        super().__init__()\n",
    "        self.hidden_dim = hidden_dim\n",
    "        self.embedding_dim = embedding_dim\n",
    "\n",
    "        # In this case, vocab_size is 9, embedding_dim is 6.\n",
    "\n",
    "        # Prepare our model for minibatch based training.\n",
    "        self.batch_size = batch_size\n",
    "        self.ini_1 = nn.Linear(embedding_dim, 2048)\n",
    "        self.ini_2 = nn.Linear(2048, 2048)\n",
    "        self.ln = nn.LayerNorm(2048)\n",
    "        # The linear layer that maps from hidden state space to tag space\n",
    "        # output_size = tagset_size - 1 to discount padding tag.\n",
    "        self.fc1= nn.Linear(hidden_dim*2, output_size)\n",
    "        self.fc2 = nn.Linear(256, output_size)\n",
    "        self.l_relu =  nn.LeakyReLU(0.02)\n",
    "\n",
    "        # Note: the commented line below is what we will do to train our initial hidden state.\n",
    "        \n",
    "        self.lstm = nn.RNN(2048,hidden_dim,2,\n",
    "                            dropout = 0.2,\n",
    "                            batch_first = True,\n",
    "                            bidirectional=True)\n",
    "\n",
    "        self.dropout = nn.Dropout(0.2)\n",
    "    def forward(self, sentences, X_lengths):\n",
    "        '''\n",
    "        Parameters\n",
    "        ----------\n",
    "        sentences: padded sentences tensor. Each element of the tensor is an array of words.\n",
    "        X_lengths: length of sentence tensor. Each element of the tensor is the original\n",
    "                   length of the unpadded sentence.\n",
    "        Returns\n",
    "        -------\n",
    "        '''\n",
    "        # Dimensions of tensors:\n",
    "        # (Note that seq_len is max length)\n",
    "        # Shape of embedding (embeds): batch_size, seq_len, hidden_dim\n",
    "        # Shape of embedding post packing (embeds): batch_size, orig_len, hidden_dim\n",
    "        # Shape of self.hidden: (num_layers*num_directions, batch_size, hidden_dim)\n",
    "        # Shape of lstm_out: batch_size, seq_len, hidden_dim\n",
    "        # Shape of tag_scores: batch_size, 1\n",
    "        \n",
    "        batch_size, seq_len,dimension = sentences.size()\n",
    "        embeds = sentences\n",
    "        embeds = self.ini_1(embeds)\n",
    "        # embeds = self.dropout(embeds)\n",
    "        embeds = self.ln(embeds)\n",
    "        embeds = self.l_relu(embeds)\n",
    "        \n",
    "        # embeds = self.ini_2(embeds)\n",
    "        # embeds = self.ln(embeds)\n",
    "        # embeds = self.l_relu(embeds)\n",
    "        \n",
    "        # embeds = self.ini_3(embeds)\n",
    "        # embeds = self.l_relu(embeds)\n",
    "        \n",
    "        lstm_out, _ = self.lstm(embeds)\n",
    "\n",
    "        out = self.fc1(lstm_out)\n",
    "        # out = self.ln2(out)\n",
    "        # out = self.l_relu(out)\n",
    "        # out = self.fc2(out)\n",
    "\n",
    "        return out"
   ]
  },
  {
   "cell_type": "code",
   "execution_count": 15,
   "metadata": {},
   "outputs": [
    {
     "name": "stdout",
     "output_type": "stream",
     "text": [
      "MAX LENTH: 42\n",
      "NUMBER OF PRINCEPLE COMPONENT: 300\n",
      "NUMBER OF CATAGORIES: 33\n"
     ]
    }
   ],
   "source": [
    "BATCHSIZE = 2048\n",
    "print(\"MAX LENTH:\",MAX_LEN)\n",
    "print(\"NUMBER OF PRINCEPLE COMPONENT:\",NUM_COMPONENTS)\n",
    "print(\"NUMBER OF CATAGORIES:\",CAT_NUM)\n",
    "device = torch.device(\"cuda\")\n",
    "network = LSTMTagger(embedding_dim = NUM_COMPONENTS,\n",
    "                     hidden_dim  = 256,\n",
    "                     output_size = CAT_NUM,\n",
    "                     batch_size = BATCHSIZE)\n",
    "model = network.to(device)\n",
    "optimizer = optim.Adam(model.parameters(), lr=0.0022,weight_decay=1e-5)\n",
    "scheduler = StepLR(optimizer, step_size=4, gamma=0.885)\n",
    "train_loader = torch.utils.data.DataLoader(train_dataset,batch_size=BATCHSIZE)\n",
    "test_loader = torch.utils.data.DataLoader(test_dataset,batch_size=BATCHSIZE)\n",
    "loss_fn =  nn.CrossEntropyLoss( reduction='sum')\n",
    "def train(model, device, train_loader, optimizer, epoch, loss_fn,batch_size, log_interval=45):\n",
    "    model.train()\n",
    "    lose = 0 \n",
    "    for batch_idx, (data, target,length) in enumerate(train_loader):\n",
    "        batch_size = data.size()[0]\n",
    "        data, target = data.to(device).type(torch.cuda.FloatTensor), target.to(device).type(torch.cuda.LongTensor)\n",
    "        \n",
    "        optimizer.zero_grad()\n",
    "        \n",
    "        y_pred = model.forward(data, length)\n",
    "        \n",
    "        loss =  loss_fn(y_pred.view(batch_size * MAX_LEN, -1),\n",
    "                        target.view(batch_size * MAX_LEN) )\n",
    "        loss.backward()\n",
    "        optimizer.step()\n",
    "        lose += loss.item()\n",
    "        if batch_idx % log_interval == 0:\n",
    "            print('Train Epoch: {} [{}/{} ({:.0f}%)]\\tLoss: {:.6f}'.format(\n",
    "                epoch+1, batch_idx * len(data), len(train_loader.dataset),\n",
    "                100. * batch_idx / len(train_loader), loss.item()))\n",
    "    return lose/len(train_loader.dataset)\n",
    "def test(model, device, test_loader, batch_size):\n",
    "    model.eval()\n",
    "    loss = 0\n",
    "    with torch.no_grad():\n",
    "        for data, target, length  in test_loader:\n",
    "            batch_size = data.size()[0]\n",
    "            data, target = data.to(device).type(torch.cuda.FloatTensor), target.type(torch.cuda.LongTensor)\n",
    "            y_pred = model.forward(data, length)\n",
    "            test_loss = loss_fn(y_pred.view(batch_size * MAX_LEN, -1),\n",
    "                        target.view(batch_size * MAX_LEN) )\n",
    "            loss += test_loss.item()\n",
    "\n",
    "    loss /= len(test_loader.dataset)\n",
    "\n",
    "    print('\\nTest set: Average loss: {:.4f}\\n'.format(\n",
    "        loss))\n",
    "    return loss\n",
    "    \n",
    "    \n",
    "### Training. "
   ]
  },
  {
   "cell_type": "code",
   "execution_count": 16,
   "metadata": {},
   "outputs": [
    {
     "ename": "RuntimeError",
     "evalue": "CUDA out of memory. Tried to allocate 3.75 GiB (GPU 0; 8.00 GiB total capacity; 4.43 GiB already allocated; 0 bytes free; 7.21 GiB reserved in total by PyTorch) If reserved memory is >> allocated memory try setting max_split_size_mb to avoid fragmentation.  See documentation for Memory Management and PYTORCH_CUDA_ALLOC_CONF",
     "output_type": "error",
     "traceback": [
      "\u001b[1;31m---------------------------------------------------------------------------\u001b[0m",
      "\u001b[1;31mRuntimeError\u001b[0m                              Traceback (most recent call last)",
      "\u001b[1;32mc:\\Users\\chang\\OneDrive\\Desktop\\test\\eBay_ML_Challenge_Dataset_2022\\eBay.ipynb Cell 20'\u001b[0m in \u001b[0;36m<cell line: 3>\u001b[1;34m()\u001b[0m\n\u001b[0;32m      <a href='vscode-notebook-cell:/c%3A/Users/chang/OneDrive/Desktop/test/eBay_ML_Challenge_Dataset_2022/eBay.ipynb#ch0000020?line=1'>2</a>\u001b[0m test_e \u001b[39m=\u001b[39m []\n\u001b[0;32m      <a href='vscode-notebook-cell:/c%3A/Users/chang/OneDrive/Desktop/test/eBay_ML_Challenge_Dataset_2022/eBay.ipynb#ch0000020?line=2'>3</a>\u001b[0m \u001b[39mfor\u001b[39;00m i \u001b[39min\u001b[39;00m \u001b[39mrange\u001b[39m(\u001b[39m150\u001b[39m):\n\u001b[1;32m----> <a href='vscode-notebook-cell:/c%3A/Users/chang/OneDrive/Desktop/test/eBay_ML_Challenge_Dataset_2022/eBay.ipynb#ch0000020?line=4'>5</a>\u001b[0m     train_e\u001b[39m.\u001b[39mappend(train(model, device, train_loader,\n\u001b[0;32m      <a href='vscode-notebook-cell:/c%3A/Users/chang/OneDrive/Desktop/test/eBay_ML_Challenge_Dataset_2022/eBay.ipynb#ch0000020?line=5'>6</a>\u001b[0m           optimizer, i,loss_fn\u001b[39m=\u001b[39;49mloss_fn,\n\u001b[0;32m      <a href='vscode-notebook-cell:/c%3A/Users/chang/OneDrive/Desktop/test/eBay_ML_Challenge_Dataset_2022/eBay.ipynb#ch0000020?line=6'>7</a>\u001b[0m           batch_size\u001b[39m=\u001b[39;49mBATCHSIZE))\n\u001b[0;32m      <a href='vscode-notebook-cell:/c%3A/Users/chang/OneDrive/Desktop/test/eBay_ML_Challenge_Dataset_2022/eBay.ipynb#ch0000020?line=8'>9</a>\u001b[0m     test_e\u001b[39m.\u001b[39mappend(test(model, device, test_loader, batch_size\u001b[39m=\u001b[39mBATCHSIZE))\n\u001b[0;32m     <a href='vscode-notebook-cell:/c%3A/Users/chang/OneDrive/Desktop/test/eBay_ML_Challenge_Dataset_2022/eBay.ipynb#ch0000020?line=9'>10</a>\u001b[0m     scheduler\u001b[39m.\u001b[39mstep()\n",
      "\u001b[1;32mc:\\Users\\chang\\OneDrive\\Desktop\\test\\eBay_ML_Challenge_Dataset_2022\\eBay.ipynb Cell 19'\u001b[0m in \u001b[0;36mtrain\u001b[1;34m(model, device, train_loader, optimizer, epoch, loss_fn, batch_size, log_interval)\u001b[0m\n\u001b[0;32m     <a href='vscode-notebook-cell:/c%3A/Users/chang/OneDrive/Desktop/test/eBay_ML_Challenge_Dataset_2022/eBay.ipynb#ch0000019?line=24'>25</a>\u001b[0m y_pred \u001b[39m=\u001b[39m model\u001b[39m.\u001b[39mforward(data, length)\n\u001b[0;32m     <a href='vscode-notebook-cell:/c%3A/Users/chang/OneDrive/Desktop/test/eBay_ML_Challenge_Dataset_2022/eBay.ipynb#ch0000019?line=26'>27</a>\u001b[0m loss \u001b[39m=\u001b[39m  loss_fn(y_pred\u001b[39m.\u001b[39mview(batch_size \u001b[39m*\u001b[39m MAX_LEN, \u001b[39m-\u001b[39m\u001b[39m1\u001b[39m),\n\u001b[0;32m     <a href='vscode-notebook-cell:/c%3A/Users/chang/OneDrive/Desktop/test/eBay_ML_Challenge_Dataset_2022/eBay.ipynb#ch0000019?line=27'>28</a>\u001b[0m                 target\u001b[39m.\u001b[39mview(batch_size \u001b[39m*\u001b[39m MAX_LEN) )\n\u001b[1;32m---> <a href='vscode-notebook-cell:/c%3A/Users/chang/OneDrive/Desktop/test/eBay_ML_Challenge_Dataset_2022/eBay.ipynb#ch0000019?line=28'>29</a>\u001b[0m loss\u001b[39m.\u001b[39;49mbackward()\n\u001b[0;32m     <a href='vscode-notebook-cell:/c%3A/Users/chang/OneDrive/Desktop/test/eBay_ML_Challenge_Dataset_2022/eBay.ipynb#ch0000019?line=29'>30</a>\u001b[0m optimizer\u001b[39m.\u001b[39mstep()\n\u001b[0;32m     <a href='vscode-notebook-cell:/c%3A/Users/chang/OneDrive/Desktop/test/eBay_ML_Challenge_Dataset_2022/eBay.ipynb#ch0000019?line=30'>31</a>\u001b[0m lose \u001b[39m+\u001b[39m\u001b[39m=\u001b[39m loss\u001b[39m.\u001b[39mitem()\n",
      "File \u001b[1;32m~\\.conda\\envs\\ebay\\lib\\site-packages\\torch\\_tensor.py:396\u001b[0m, in \u001b[0;36mTensor.backward\u001b[1;34m(self, gradient, retain_graph, create_graph, inputs)\u001b[0m\n\u001b[0;32m    <a href='file:///c%3A/Users/chang/.conda/envs/ebay/lib/site-packages/torch/_tensor.py?line=386'>387</a>\u001b[0m \u001b[39mif\u001b[39;00m has_torch_function_unary(\u001b[39mself\u001b[39m):\n\u001b[0;32m    <a href='file:///c%3A/Users/chang/.conda/envs/ebay/lib/site-packages/torch/_tensor.py?line=387'>388</a>\u001b[0m     \u001b[39mreturn\u001b[39;00m handle_torch_function(\n\u001b[0;32m    <a href='file:///c%3A/Users/chang/.conda/envs/ebay/lib/site-packages/torch/_tensor.py?line=388'>389</a>\u001b[0m         Tensor\u001b[39m.\u001b[39mbackward,\n\u001b[0;32m    <a href='file:///c%3A/Users/chang/.conda/envs/ebay/lib/site-packages/torch/_tensor.py?line=389'>390</a>\u001b[0m         (\u001b[39mself\u001b[39m,),\n\u001b[1;32m   (...)\u001b[0m\n\u001b[0;32m    <a href='file:///c%3A/Users/chang/.conda/envs/ebay/lib/site-packages/torch/_tensor.py?line=393'>394</a>\u001b[0m         create_graph\u001b[39m=\u001b[39mcreate_graph,\n\u001b[0;32m    <a href='file:///c%3A/Users/chang/.conda/envs/ebay/lib/site-packages/torch/_tensor.py?line=394'>395</a>\u001b[0m         inputs\u001b[39m=\u001b[39minputs)\n\u001b[1;32m--> <a href='file:///c%3A/Users/chang/.conda/envs/ebay/lib/site-packages/torch/_tensor.py?line=395'>396</a>\u001b[0m torch\u001b[39m.\u001b[39;49mautograd\u001b[39m.\u001b[39;49mbackward(\u001b[39mself\u001b[39;49m, gradient, retain_graph, create_graph, inputs\u001b[39m=\u001b[39;49minputs)\n",
      "File \u001b[1;32m~\\.conda\\envs\\ebay\\lib\\site-packages\\torch\\autograd\\__init__.py:173\u001b[0m, in \u001b[0;36mbackward\u001b[1;34m(tensors, grad_tensors, retain_graph, create_graph, grad_variables, inputs)\u001b[0m\n\u001b[0;32m    <a href='file:///c%3A/Users/chang/.conda/envs/ebay/lib/site-packages/torch/autograd/__init__.py?line=167'>168</a>\u001b[0m     retain_graph \u001b[39m=\u001b[39m create_graph\n\u001b[0;32m    <a href='file:///c%3A/Users/chang/.conda/envs/ebay/lib/site-packages/torch/autograd/__init__.py?line=169'>170</a>\u001b[0m \u001b[39m# The reason we repeat same the comment below is that\u001b[39;00m\n\u001b[0;32m    <a href='file:///c%3A/Users/chang/.conda/envs/ebay/lib/site-packages/torch/autograd/__init__.py?line=170'>171</a>\u001b[0m \u001b[39m# some Python versions print out the first line of a multi-line function\u001b[39;00m\n\u001b[0;32m    <a href='file:///c%3A/Users/chang/.conda/envs/ebay/lib/site-packages/torch/autograd/__init__.py?line=171'>172</a>\u001b[0m \u001b[39m# calls in the traceback and some print out the last line\u001b[39;00m\n\u001b[1;32m--> <a href='file:///c%3A/Users/chang/.conda/envs/ebay/lib/site-packages/torch/autograd/__init__.py?line=172'>173</a>\u001b[0m Variable\u001b[39m.\u001b[39;49m_execution_engine\u001b[39m.\u001b[39;49mrun_backward(  \u001b[39m# Calls into the C++ engine to run the backward pass\u001b[39;49;00m\n\u001b[0;32m    <a href='file:///c%3A/Users/chang/.conda/envs/ebay/lib/site-packages/torch/autograd/__init__.py?line=173'>174</a>\u001b[0m     tensors, grad_tensors_, retain_graph, create_graph, inputs,\n\u001b[0;32m    <a href='file:///c%3A/Users/chang/.conda/envs/ebay/lib/site-packages/torch/autograd/__init__.py?line=174'>175</a>\u001b[0m     allow_unreachable\u001b[39m=\u001b[39;49m\u001b[39mTrue\u001b[39;49;00m, accumulate_grad\u001b[39m=\u001b[39;49m\u001b[39mTrue\u001b[39;49;00m)\n",
      "\u001b[1;31mRuntimeError\u001b[0m: CUDA out of memory. Tried to allocate 3.75 GiB (GPU 0; 8.00 GiB total capacity; 4.43 GiB already allocated; 0 bytes free; 7.21 GiB reserved in total by PyTorch) If reserved memory is >> allocated memory try setting max_split_size_mb to avoid fragmentation.  See documentation for Memory Management and PYTORCH_CUDA_ALLOC_CONF"
     ]
    }
   ],
   "source": [
    "\n",
    "### Training \n",
    "train_e=[]\n",
    "test_e = []\n",
    "for i in range(150):\n",
    "      \n",
    "    train_e.append(train(model, device, train_loader,\n",
    "          optimizer, i,loss_fn=loss_fn,\n",
    "          batch_size=BATCHSIZE))\n",
    "          \n",
    "    test_e.append(test(model, device, test_loader, batch_size=BATCHSIZE))\n",
    "    scheduler.step()\n"
   ]
  },
  {
   "cell_type": "code",
   "execution_count": 20,
   "metadata": {},
   "outputs": [],
   "source": [
    "torch.cuda.empty_cache()"
   ]
  },
  {
   "cell_type": "code",
   "execution_count": null,
   "metadata": {},
   "outputs": [
    {
     "name": "stdout",
     "output_type": "stream",
     "text": [
      "6.940736293792725\n"
     ]
    },
    {
     "data": {
      "image/png": "[encoded data removed]",
      "text/plain": [
       "<Figure size 640x480 with 1 Axes>"
      ]
     },
     "metadata": {},
     "output_type": "display_data"
    }
   ],
   "source": [
    "### Training Loss curve\n",
    "import matplotlib.pyplot as plt\n",
    "plt.plot(train_e, label= 'train')\n",
    "plt.plot(test_e, label = 'test')\n",
    "plt.legend()\n",
    "print(min(test_e))"
   ]
  },
  {
   "cell_type": "code",
   "execution_count": 70,
   "metadata": {},
   "outputs": [],
   "source": [
    "def predict_tag(sample):\n",
    "    sample = [vocab_clean(word) for word in sample]\n",
    "    length = [len(sample)]\n",
    "\n",
    "    ini = np.zeros((1,MAX_LEN,NUM_COMPONENTS))\n",
    "    vector_sample = np.array([ wv_from_bin[i] for i in sample])\n",
    "    vector_sample = vector_sample\n",
    "    ini[0,:vector_sample.shape[0],:NUM_COMPONENTS] = vector_sample\n",
    "    sample = torch.tensor(ini).to(device).type(torch.cuda.FloatTensor)\n",
    "\n",
    "    optimizer.zero_grad()\n",
    "    model.eval()        \n",
    "    y_pred = model.forward(sample, length)\n",
    "    y_pred =y_pred.view(1,  MAX_LEN, CAT_NUM,-1)\n",
    "    y_pred = y_pred.cpu()\n",
    "    y_pred = y_pred.detach().numpy()\n",
    "    y_pred = y_pred[0]\n",
    "    y_pred = y_pred.squeeze()\n",
    "    y_pred = y_pred.argmax(axis = 1)\n",
    "    out_list = []\n",
    "    for i in y_pred:\n",
    "        if target_name_to_index[i] != '[PAD]':\n",
    "            out_list.append(target_name_to_index[i])\n",
    "        else:\n",
    "            break\n",
    "    return out_list\n"
   ]
  },
  {
   "cell_type": "code",
   "execution_count": 71,
   "metadata": {},
   "outputs": [
    {
     "data": {
      "text/plain": [
       "['the', 'women', \"'s\", 'handbag']"
      ]
     },
     "execution_count": 71,
     "metadata": {},
     "output_type": "execute_result"
    }
   ],
   "source": [
    "def tokenizer(title):\n",
    "    tokens = title.split(' ')\n",
    "    out = []\n",
    "    for token in tokens:\n",
    "        out.append(token)\n",
    "    return out\n",
    "\n",
    "tokenizer(\"the women 's handbag\")"
   ]
  },
  {
   "cell_type": "code",
   "execution_count": 72,
   "metadata": {},
   "outputs": [
    {
     "name": "stdout",
     "output_type": "stream",
     "text": [
      "100\r"
     ]
    }
   ],
   "source": [
    "submission = {'Record number':[], \"Aspect Name\":[], \"Aspect Value\":[]}\n",
    "for num in range(5001,30001):\n",
    "    print(int(((num-5000)/(30000-5000))*100), end = '\\r')\n",
    "    tokens = tokenizer(df_title['Title'][num-1])\n",
    "\n",
    "    out_list=predict_tag(tokens)\n",
    "    temp=None\n",
    "    jump = False\n",
    "    for i in range(min(len(out_list),len(tokens))):\n",
    "        # if tokens[i] == 'strap' or tokens[i] == 'strapdrop':\n",
    "            # found = False\n",
    "            # index = i\n",
    "            # while index != 0:\n",
    "            #     if tokens[index].isnumeric():\n",
    "            #         submission['Record number'].append(num)\n",
    "            #         submission['Aspect Name'].append('Strap Drop')\n",
    "            #         submission['Aspect Value'].append(tokens[i])                    \n",
    "            #         found = True\n",
    "            #         break\n",
    "            #     index-=1\n",
    "            # if found:\n",
    "            #     continue\n",
    "        if jump:\n",
    "            jump = False \n",
    "            continue\n",
    "        if tokens[i].lower() == 'hand' and i != len(tokens)-1 and   tokens[i+1].lower() == 'bag':\n",
    "            jump = True\n",
    "            submission['Record number'].append(num)\n",
    "            submission['Aspect Name'].append('Type')\n",
    "            submission['Aspect Value'].append(tokens[i] + ' ' + tokens[i+1])\n",
    "            continue\n",
    "        \n",
    "        \n",
    "        if tokens[i].lower() == 'cc' and i != len(tokens)-1 and   tokens[i+1].lower() == 'logo':\n",
    "            jump = True\n",
    "            submission['Record number'].append(num)\n",
    "            submission['Aspect Name'].append('Accents')\n",
    "            submission['Aspect Value'].append(tokens[i] + ' ' + tokens[i+1])\n",
    "            continue\n",
    "        if tokens[i].lower() == 'leather' and i != 0 and   out_list[i-1] == 'Material':\n",
    "            submission['Aspect Value'][-1] = tokens[i-1] + ' ' + tokens[i]\n",
    "            continue\n",
    "        if out_list[i] == temp and (out_list[i] == 'Model' or\n",
    "                                    out_list[i] == 'Brand' or \n",
    "                                    out_list[i] == 'Theme' or\n",
    "                                    out_list[i] == 'Trim Material' or\n",
    "                                    out_list[i] == 'Strap Drop' or \n",
    "                                    out_list[i] == 'Character' or\n",
    "                                    out_list[i] == 'Character Family' or\n",
    "                                    out_list[i] == 'Features' or\n",
    "                                    out_list[i] == 'Handle Drop' or\n",
    "                                    out_list[i] == 'Shoulder Strap' or\n",
    "                                    out_list[i] == 'Hardware Material' or\n",
    "                                    out_list[i] =='Handle Style' or\n",
    "                                    out_list[i] =='Measurement, dimension' or\n",
    "                                    out_list[i] == 'Pocket Type' or\n",
    "                                    out_list[i] == 'Product Line'):\n",
    "            prev_name = submission['Aspect Value'][-1]\n",
    "            submission['Record number'].append(num)\n",
    "            # submission['Aspect Name'].append(out_list[i])\n",
    "            submission['Aspect Value'][-1] = prev_name + ' ' + tokens[i]\n",
    "        else:\n",
    "            submission['Record number'].append(num)\n",
    "            submission['Aspect Name'].append(out_list[i])\n",
    "            submission['Aspect Value'].append(tokens[i])\n",
    "            temp = out_list[i]\n",
    "submission= pd.DataFrame(submission)        \n"
   ]
  },
  {
   "cell_type": "code",
   "execution_count": 659,
   "metadata": {},
   "outputs": [
    {
     "name": "stdout",
     "output_type": "stream",
     "text": [
      "99\r"
     ]
    }
   ],
   "source": [
    "submission = {'Record number':[], \"Aspect Name\":[], \"Aspect Value\":[]}\n",
    "for num in range(5001,30000):\n",
    "    print(int(((num-5000)/(30000-5000))*100), end = '\\r')\n",
    "    tokens = tokenizer(df_title['Title'][num-1])\n",
    "\n",
    "    out_list=predict_tag(tokens)\n",
    "    temp=None\n",
    "    for i in range(min(len(out_list),len(tokens))):\n",
    "            submission['Record number'].append(num)\n",
    "            submission['Aspect Name'].append(out_list[i])\n",
    "            submission['Aspect Value'].append(tokens[i])\n",
    "            temp = out_list[i]\n",
    "submission= pd.DataFrame(submission)\n"
   ]
  },
  {
   "cell_type": "code",
   "execution_count": 73,
   "metadata": {},
   "outputs": [],
   "source": [
    "submission.to_csv('submission.csv', sep ='\\t', index = False,header=None)"
   ]
  },
  {
   "cell_type": "markdown",
   "metadata": {},
   "source": [
    "### Result showcase. "
   ]
  },
  {
   "cell_type": "code",
   "execution_count": 666,
   "metadata": {},
   "outputs": [
    {
     "name": "stdout",
     "output_type": "stream",
     "text": [
      "Ladies Rowallan Soft Tan Real Leather Over Body / shoulder Bag\n",
      "['Ladies', 'Rowallan', 'Soft', 'Tan', 'Real', 'Leather', 'Over', 'Body', '/', 'shoulder', 'Bag']\n",
      "['Department', 'Model', 'Features', 'Color', 'No Tag', 'Material', 'Closure', 'Type', 'No Tag', 'Type', 'Type']\n"
     ]
    }
   ],
   "source": [
    "num = 280021\n",
    "print(df_title['Title'][num])\n",
    "tokens = tokenizer(df_title['Title'][num])\n",
    "\n",
    "print(tokens)\n",
    "out_list=predict_tag(tokens)\n",
    "print(out_list)"
   ]
  },
  {
   "cell_type": "code",
   "execution_count": 258,
   "metadata": {},
   "outputs": [
    {
     "data": {
      "text/html": [
       "<div>\n",
       "<style scoped>\n",
       "    .dataframe tbody tr th:only-of-type {\n",
       "        vertical-align: middle;\n",
       "    }\n",
       "\n",
       "    .dataframe tbody tr th {\n",
       "        vertical-align: top;\n",
       "    }\n",
       "\n",
       "    .dataframe thead th {\n",
       "        text-align: right;\n",
       "    }\n",
       "</style>\n",
       "<table border=\"1\" class=\"dataframe\">\n",
       "  <thead>\n",
       "    <tr style=\"text-align: right;\">\n",
       "      <th></th>\n",
       "      <th>Record number</th>\n",
       "      <th>Aspect Name</th>\n",
       "      <th>Aspect Value</th>\n",
       "    </tr>\n",
       "  </thead>\n",
       "  <tbody>\n",
       "    <tr>\n",
       "      <th>1454</th>\n",
       "      <td>5248</td>\n",
       "      <td>Strap Drop</td>\n",
       "      <td>strap</td>\n",
       "    </tr>\n",
       "    <tr>\n",
       "      <th>103758</th>\n",
       "      <td>21461</td>\n",
       "      <td>Strap Drop</td>\n",
       "      <td>strap</td>\n",
       "    </tr>\n",
       "    <tr>\n",
       "      <th>120985</th>\n",
       "      <td>24208</td>\n",
       "      <td>Strap Drop</td>\n",
       "      <td>strap</td>\n",
       "    </tr>\n",
       "    <tr>\n",
       "      <th>145899</th>\n",
       "      <td>28092</td>\n",
       "      <td>Strap Drop</td>\n",
       "      <td>strap</td>\n",
       "    </tr>\n",
       "  </tbody>\n",
       "</table>\n",
       "</div>"
      ],
      "text/plain": [
       "        Record number Aspect Name Aspect Value\n",
       "1454             5248  Strap Drop        strap\n",
       "103758          21461  Strap Drop        strap\n",
       "120985          24208  Strap Drop        strap\n",
       "145899          28092  Strap Drop        strap"
      ]
     },
     "execution_count": 258,
     "metadata": {},
     "output_type": "execute_result"
    }
   ],
   "source": [
    "test_ = submission[submission['Aspect Name']=='Strap Drop']\n",
    "test_.to_csv('test.csv')\n",
    "test_\n"
   ]
  },
  {
   "cell_type": "code",
   "execution_count": null,
   "metadata": {},
   "outputs": [],
   "source": []
  }
 ],
 "metadata": {
  "interpreter": {
   "hash": "1aaefd176c54b5c3e652479d69d1e0f261a4b163a6bec681fd43e0c16921b5a0"
  },
  "kernelspec": {
   "display_name": "Python 3.6.13 ('pytorch')",
   "language": "python",
   "name": "python3"
  },
  "language_info": {
   "codemirror_mode": {
    "name": "ipython",
    "version": 3
   },
   "file_extension": ".py",
   "mimetype": "text/x-python",
   "name": "python",
   "nbconvert_exporter": "python",
   "pygments_lexer": "ipython3",
   "version": "3.9.13"
  },
  "orig_nbformat": 4
 },
 "nbformat": 4,
 "nbformat_minor": 2
}
